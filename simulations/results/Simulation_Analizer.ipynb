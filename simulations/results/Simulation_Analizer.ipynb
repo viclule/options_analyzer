{
 "cells": [
  {
   "cell_type": "code",
   "execution_count": 1,
   "id": "676bbc20",
   "metadata": {},
   "outputs": [],
   "source": [
    "import pickle\n",
    "import os"
   ]
  },
  {
   "cell_type": "code",
   "execution_count": 2,
   "id": "66f4b4d9",
   "metadata": {},
   "outputs": [],
   "source": [
    "dir_path = os.getcwd()\n",
    "\n",
    "def gen_results_path(filename: str):\n",
    "    return os.path.join(dir_path, \"data/bull_put_spread\", filename)"
   ]
  },
  {
   "cell_type": "code",
   "execution_count": 48,
   "id": "6a85e8fa",
   "metadata": {},
   "outputs": [],
   "source": [
    "filename = \"BullPutSpread_25_10_45_15_100_50_ligth\""
   ]
  },
  {
   "cell_type": "code",
   "execution_count": 49,
   "id": "f03bc673",
   "metadata": {},
   "outputs": [
    {
     "data": {
      "text/plain": [
       "43"
      ]
     },
     "execution_count": 49,
     "metadata": {},
     "output_type": "execute_result"
    }
   ],
   "source": [
    "with open(gen_results_path(filename), \"rb\") as f:\n",
    "    trades = pickle.load(f)\n",
    "len(trades)"
   ]
  },
  {
   "cell_type": "code",
   "execution_count": 50,
   "id": "259defdb",
   "metadata": {},
   "outputs": [],
   "source": [
    "dates = list(trades.keys())"
   ]
  },
  {
   "cell_type": "code",
   "execution_count": 51,
   "id": "18b08873",
   "metadata": {},
   "outputs": [],
   "source": [
    "profits = [t['profit_loss'] for t in trades.values()]"
   ]
  },
  {
   "cell_type": "code",
   "execution_count": 52,
   "id": "98d80576",
   "metadata": {},
   "outputs": [
    {
     "data": {
      "text/plain": [
       "43"
      ]
     },
     "execution_count": 52,
     "metadata": {},
     "output_type": "execute_result"
    }
   ],
   "source": [
    "import numpy as np\n",
    "cumm = np.cumsum(profits)\n",
    "len(cumm)"
   ]
  },
  {
   "cell_type": "code",
   "execution_count": 53,
   "id": "65bb5e79",
   "metadata": {},
   "outputs": [],
   "source": [
    "import matplotlib.pyplot as plt"
   ]
  },
  {
   "cell_type": "code",
   "execution_count": 54,
   "id": "03272119",
   "metadata": {},
   "outputs": [
    {
     "data": {
      "image/png": "[encoded data removed]",
      "text/plain": [
       "<Figure size 432x288 with 1 Axes>"
      ]
     },
     "metadata": {
      "needs_background": "light"
     },
     "output_type": "display_data"
    }
   ],
   "source": [
    "plt.plot(dates, profits)\n",
    "plt.xticks(rotation = 45)\n",
    "plt.show()"
   ]
  },
  {
   "cell_type": "code",
   "execution_count": 55,
   "id": "e26f5665",
   "metadata": {},
   "outputs": [
    {
     "data": {
      "image/png": "[encoded data removed]",
      "text/plain": [
       "<Figure size 432x288 with 1 Axes>"
      ]
     },
     "metadata": {
      "needs_background": "light"
     },
     "output_type": "display_data"
    }
   ],
   "source": [
    "plt.plot(dates, cumm)\n",
    "plt.xticks(rotation = 45)\n",
    "plt.show()"
   ]
  },
  {
   "cell_type": "code",
   "execution_count": 56,
   "id": "8a9b061d",
   "metadata": {},
   "outputs": [
    {
     "name": "stdout",
     "output_type": "stream",
     "text": [
      "Total P/L: 5.5500000000000025\n"
     ]
    }
   ],
   "source": [
    "total_p_l = sum([x for x in profits if x is not None])\n",
    "print(f'Total P/L: {total_p_l}')"
   ]
  },
  {
   "cell_type": "code",
   "execution_count": 45,
   "id": "261eef94",
   "metadata": {},
   "outputs": [
    {
     "name": "stdout",
     "output_type": "stream",
     "text": [
      "Average profit: 0.20528089887640444\n"
     ]
    }
   ],
   "source": [
    "average = total_p_l / len(profits)\n",
    "print(f'Average profit: {average}')"
   ]
  },
  {
   "cell_type": "code",
   "execution_count": 46,
   "id": "491db2a9",
   "metadata": {},
   "outputs": [
    {
     "data": {
      "text/plain": [
       "7.719101123595506"
      ]
     },
     "execution_count": 46,
     "metadata": {},
     "output_type": "execute_result"
    }
   ],
   "source": [
    "sum([t['max_loss'] for t in trades.values()]) / len(list(trades.values()))"
   ]
  },
  {
   "cell_type": "code",
   "execution_count": 47,
   "id": "cb04ca51",
   "metadata": {},
   "outputs": [
    {
     "data": {
      "text/plain": [
       "1.9796629213483146"
      ]
     },
     "execution_count": 47,
     "metadata": {},
     "output_type": "execute_result"
    }
   ],
   "source": [
    "sum([t['max_profit'] for t in trades.values()]) / len(list(trades.values()))"
   ]
  },
  {
   "cell_type": "code",
   "execution_count": null,
   "id": "95ad7a63",
   "metadata": {},
   "outputs": [],
   "source": []
  }
 ],
 "metadata": {
  "kernelspec": {
   "display_name": "Python 3",
   "language": "python",
   "name": "python3"
  },
  "language_info": {
   "codemirror_mode": {
    "name": "ipython",
    "version": 3
   },
   "file_extension": ".py",
   "mimetype": "text/x-python",
   "name": "python",
   "nbconvert_exporter": "python",
   "pygments_lexer": "ipython3",
   "version": "3.8.9"
  }
 },
 "nbformat": 4,
 "nbformat_minor": 5
}
