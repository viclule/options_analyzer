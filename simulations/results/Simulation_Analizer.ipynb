{
 "cells": [
  {
   "cell_type": "code",
   "execution_count": 1,
   "id": "bbc13522",
   "metadata": {},
   "outputs": [],
   "source": [
    "import pickle\n",
    "import os"
   ]
  },
  {
   "cell_type": "code",
   "execution_count": 2,
   "id": "4522713f",
   "metadata": {},
   "outputs": [],
   "source": [
    "dir_path = os.getcwd()\n",
    "\n",
    "def gen_results_path(filename: str):\n",
    "    return os.path.join(dir_path, \"data\", filename)"
   ]
  },
  {
   "cell_type": "code",
   "execution_count": 3,
   "id": "8e652346",
   "metadata": {},
   "outputs": [],
   "source": [
    "filename = \"BullPutSpread_30_15_45\""
   ]
  },
  {
   "cell_type": "code",
   "execution_count": 4,
   "id": "1970c9d3",
   "metadata": {},
   "outputs": [
    {
     "data": {
      "text/plain": [
       "5"
      ]
     },
     "execution_count": 4,
     "metadata": {},
     "output_type": "execute_result"
    }
   ],
   "source": [
    "with open(gen_results_path(filename), \"rb\") as f:\n",
    "    trades = pickle.load(f)\n",
    "len(trades)"
   ]
  },
  {
   "cell_type": "code",
   "execution_count": 6,
   "id": "33ffc4d0",
   "metadata": {},
   "outputs": [],
   "source": [
    "dates = list(trades.keys())"
   ]
  },
  {
   "cell_type": "code",
   "execution_count": 8,
   "id": "13f32f90",
   "metadata": {},
   "outputs": [],
   "source": [
    "profits = [t.profit_loss for t in trades.values()]"
   ]
  },
  {
   "cell_type": "code",
   "execution_count": 14,
   "id": "f7d1c955",
   "metadata": {},
   "outputs": [],
   "source": [
    "import matplotlib.pyplot as plt"
   ]
  },
  {
   "cell_type": "code",
   "execution_count": 15,
   "id": "a559afae",
   "metadata": {},
   "outputs": [
    {
     "data": {
      "image/png": "[encoded data removed]",
      "text/plain": [
       "<Figure size 432x288 with 1 Axes>"
      ]
     },
     "metadata": {
      "needs_background": "light"
     },
     "output_type": "display_data"
    }
   ],
   "source": [
    "plt.plot(dates, profits)\n",
    "plt.xticks(rotation = 45)\n",
    "plt.show()"
   ]
  },
  {
   "cell_type": "code",
   "execution_count": 12,
   "id": "57af62ab",
   "metadata": {},
   "outputs": [
    {
     "name": "stdout",
     "output_type": "stream",
     "text": [
      "Total P/L: 0.5000000000000002\n"
     ]
    }
   ],
   "source": [
    "total_p_l = sum([x for x in profits if x is not None])\n",
    "print(f'Total P/L: {total_p_l}')"
   ]
  },
  {
   "cell_type": "code",
   "execution_count": 13,
   "id": "75951ecf",
   "metadata": {},
   "outputs": [
    {
     "data": {
      "text/plain": [
       "[0.7499999999999999, -2.15, 1.1, 0.8, None]"
      ]
     },
     "execution_count": 13,
     "metadata": {},
     "output_type": "execute_result"
    }
   ],
   "source": [
    "profits"
   ]
  },
  {
   "cell_type": "code",
   "execution_count": null,
   "id": "0e9a324a",
   "metadata": {},
   "outputs": [],
   "source": []
  }
 ],
 "metadata": {
  "kernelspec": {
   "display_name": "Python 3",
   "language": "python",
   "name": "python3"
  },
  "language_info": {
   "codemirror_mode": {
    "name": "ipython",
    "version": 3
   },
   "file_extension": ".py",
   "mimetype": "text/x-python",
   "name": "python",
   "nbconvert_exporter": "python",
   "pygments_lexer": "ipython3",
   "version": "3.8.9"
  }
 },
 "nbformat": 4,
 "nbformat_minor": 5
}
